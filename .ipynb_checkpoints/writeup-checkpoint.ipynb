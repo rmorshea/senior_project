{
 "cells": [
  {
   "cell_type": "markdown",
   "metadata": {},
   "source": [
    "# `Incorporating IPython’s Traitlets into Matplotlib`\n",
    "\n",
    "Traitlets is a package used by IPython to simplify notification and configuration heuristics using pure Python. This is significant for Matplotlib because it provides a way to streamline the callback system, introduce basic type checking that will give useful tracback results, and improve the API by removing classic getter and setter functions in favor of setting or getting attributes directly. On the other hand though, this is important for Traitlets as it's the first time it's been implamented in a large project outside of IPython. Thus, there's been back and forth communication in which changes in one project have influenced those being made in the other."
   ]
  },
  {
   "cell_type": "markdown",
   "metadata": {},
   "source": [
    "---\n",
    "\n",
    "## `Matplotlib Specific Traitlets Tools`\n",
    "\n",
    "Matplotlib presents specific use cases the standard Traitlets Package was not designed to handle, which means a few new tools needed to be introduced."
   ]
  },
  {
   "cell_type": "markdown",
   "metadata": {},
   "source": [
    "### `+ Notification Muting and Forced Callbacks`\n",
    "\n",
    "Notification muting is used in several locations where updating an instance should alter its model, but not it's state. That is to say that values stored on the instance should be changed (i.e. updating the model), however notifications that would normally be fired as a result should be \"muted\" (i.e. state is maintained). Traitlets has a context manager for \"holding\" notifications, and while inside it, notifications are not triggered, but they are cached, and upon exiting, are fired. Thus, a context manager for \"muting\" has been included. The context manager itself is used explicitely only once or twice, however the method `private` is used extensively. It's found wherever private values on an instance (those named with a prefix of \"`_`\") were accessed or manipulated. The code below demonstrates that using `private` to set a value bypasses both validation and change notifiers, but still updates the value in `_trait_values`."
   ]
  },
  {
   "cell_type": "code",
   "execution_count": 1,
   "metadata": {
    "collapsed": false
   },
   "outputs": [],
   "source": [
    "from matplotlib.traitlets import PrivateMethodMixin, Configurable, Int, validate, observe\n",
    "\n",
    "class A(PrivateMethodMixin, Configurable):\n",
    "\n",
    "        attr = Int(0)\n",
    "\n",
    "        @validate('attr')\n",
    "        def _attr_validate(self, commit):\n",
    "            # should never be reached\n",
    "            assert(False)\n",
    "\n",
    "        @observe('attr')\n",
    "        def _attr_changed(self, change):\n",
    "            # should never be reached\n",
    "            assert(False)\n",
    "\n",
    "a = A()\n",
    "# callbacks shouldn't be envoked\n",
    "a.private('attr', 1)\n",
    "# but the value of `attr` should be updated\n",
    "assert(a.attr == 1)"
   ]
  },
  {
   "cell_type": "markdown",
   "metadata": {},
   "source": [
    "In discussions with IPython devs who are working closely with traitlets, notification \"muting\" has been looked down upon. After all, the point of Traitlets is to trigger notifiers, not mute them. If it's possible, it might be adventageous to alter the functionality of matplotlib such that it wouldn't be needed. I have a feeling that might be a pretty substantial task though. One particularly difficult case comes to mind in which notification \"holding\" is required but notifications must be triggered midway through an inner context. The problem can be outlined as follows:"
   ]
  },
  {
   "cell_type": "code",
   "execution_count": 2,
   "metadata": {
    "collapsed": false
   },
   "outputs": [
    {
     "ename": "AssertionError",
     "evalue": "needs post-notified state",
     "output_type": "error",
     "traceback": [
      "\u001b[0;31m---------------------------------------------------------------------------\u001b[0m",
      "\u001b[0;31mAssertionError\u001b[0m                            Traceback (most recent call last)",
      "\u001b[0;32m<ipython-input-2-2976712c6b84>\u001b[0m in \u001b[0;36m<module>\u001b[0;34m()\u001b[0m\n\u001b[1;32m     36\u001b[0m     \u001b[0;32mreturn\u001b[0m \u001b[0mtype\u001b[0m\u001b[0;34m(\u001b[0m\u001b[0;34m'FromFactory'\u001b[0m\u001b[0;34m,\u001b[0m \u001b[0;34m(\u001b[0m\u001b[0mklass\u001b[0m\u001b[0;34m,\u001b[0m \u001b[0mBase\u001b[0m\u001b[0;34m)\u001b[0m\u001b[0;34m,\u001b[0m \u001b[0;34m{\u001b[0m\u001b[0;34m}\u001b[0m\u001b[0;34m)\u001b[0m\u001b[0;34m\u001b[0m\u001b[0m\n\u001b[1;32m     37\u001b[0m \u001b[0;34m\u001b[0m\u001b[0m\n\u001b[0;32m---> 38\u001b[0;31m \u001b[0minst\u001b[0m \u001b[0;34m=\u001b[0m \u001b[0mclass_factory\u001b[0m\u001b[0;34m(\u001b[0m\u001b[0mMixin\u001b[0m\u001b[0;34m)\u001b[0m\u001b[0;34m(\u001b[0m\u001b[0;36m1\u001b[0m\u001b[0;34m)\u001b[0m\u001b[0;34m\u001b[0m\u001b[0m\n\u001b[0m",
      "\u001b[0;32m<ipython-input-2-2976712c6b84>\u001b[0m in \u001b[0;36m__init__\u001b[0;34m(self, value)\u001b[0m\n\u001b[1;32m     30\u001b[0m         \u001b[0;32mwith\u001b[0m \u001b[0mself\u001b[0m\u001b[0;34m.\u001b[0m\u001b[0mhold_trait_notifications\u001b[0m\u001b[0;34m(\u001b[0m\u001b[0;34m)\u001b[0m\u001b[0;34m:\u001b[0m\u001b[0;34m\u001b[0m\u001b[0m\n\u001b[1;32m     31\u001b[0m             \u001b[0mself\u001b[0m\u001b[0;34m.\u001b[0m\u001b[0ma\u001b[0m \u001b[0;34m=\u001b[0m \u001b[0mvalue\u001b[0m\u001b[0;34m\u001b[0m\u001b[0m\n\u001b[0;32m---> 32\u001b[0;31m             \u001b[0msuper\u001b[0m\u001b[0;34m(\u001b[0m\u001b[0mMixin\u001b[0m\u001b[0;34m,\u001b[0m \u001b[0mself\u001b[0m\u001b[0;34m)\u001b[0m\u001b[0;34m.\u001b[0m\u001b[0m__init__\u001b[0m\u001b[0;34m(\u001b[0m\u001b[0;34m)\u001b[0m\u001b[0;34m\u001b[0m\u001b[0m\n\u001b[0m\u001b[1;32m     33\u001b[0m         \u001b[0;31m# post-notified state is actually here\u001b[0m\u001b[0;34m\u001b[0m\u001b[0;34m\u001b[0m\u001b[0m\n\u001b[1;32m     34\u001b[0m \u001b[0;34m\u001b[0m\u001b[0m\n",
      "\u001b[0;32m<ipython-input-2-2976712c6b84>\u001b[0m in \u001b[0;36m__init__\u001b[0;34m(self)\u001b[0m\n\u001b[1;32m     23\u001b[0m         \u001b[0;31m# do something with post-notified state\u001b[0m\u001b[0;34m\u001b[0m\u001b[0;34m\u001b[0m\u001b[0m\n\u001b[1;32m     24\u001b[0m         \u001b[0mm\u001b[0m \u001b[0;34m=\u001b[0m \u001b[0;34m'needs post-notified state'\u001b[0m\u001b[0;34m\u001b[0m\u001b[0m\n\u001b[0;32m---> 25\u001b[0;31m         \u001b[0;32massert\u001b[0m \u001b[0mself\u001b[0m\u001b[0;34m.\u001b[0m\u001b[0mb\u001b[0m \u001b[0;34m==\u001b[0m \u001b[0mself\u001b[0m\u001b[0;34m.\u001b[0m\u001b[0ma\u001b[0m\u001b[0;34m,\u001b[0m \u001b[0mm\u001b[0m\u001b[0;34m\u001b[0m\u001b[0m\n\u001b[0m\u001b[1;32m     26\u001b[0m \u001b[0;34m\u001b[0m\u001b[0m\n\u001b[1;32m     27\u001b[0m \u001b[0;32mclass\u001b[0m \u001b[0mMixin\u001b[0m\u001b[0;34m(\u001b[0m\u001b[0mobject\u001b[0m\u001b[0;34m)\u001b[0m\u001b[0;34m:\u001b[0m\u001b[0;34m\u001b[0m\u001b[0m\n",
      "\u001b[0;31mAssertionError\u001b[0m: needs post-notified state"
     ]
    }
   ],
   "source": [
    "from traitlets import HasTraits, Int, observe\n",
    "\n",
    "class Base(HasTraits):\n",
    "\n",
    "    a = Int()\n",
    "    b = Int()\n",
    "    \n",
    "    @validate('a')\n",
    "    def _a_validator(self, commit):\n",
    "        return commit['value']*2\n",
    "    \n",
    "    @observe('a')\n",
    "    def _a_observer(self, change):\n",
    "        self.b = change['new']\n",
    "\n",
    "    def __init__(self):\n",
    "        # post-notified state needs to be here\n",
    "        \n",
    "        # do something with post-notified state\n",
    "        m = 'needs post-notified state'\n",
    "        assert self.b == self.a, m\n",
    "\n",
    "class Mixin(object):\n",
    "\n",
    "    def __init__(self, value):\n",
    "        with self.hold_trait_notifications():\n",
    "            self.a = value\n",
    "            \n",
    "            # do something with pre-notified state\n",
    "            m = 'needs pre-notified state'\n",
    "            assert self.a != self.b, m\n",
    "            \n",
    "            super(Mixin, self).__init__()\n",
    "        # post-notified state is actually here\n",
    "\n",
    "def class_factory(klass):\n",
    "    return type('FromFactory', (klass, Base), {})\n",
    "\n",
    "inst = class_factory(Mixin)(1)"
   ]
  },
  {
   "cell_type": "markdown",
   "metadata": {},
   "source": [
    "This only occured once during my refactor, but it does so within the contruction of `Subplot` classes which has relatively complex euristics associated with it. To solve the problem posed above I use two methods `mute_trait_notifications` which is a context mannager inspired by `hold_trait_notifications` that halts trait notifications, but still validates. Though notifications are muted, the manager yields a cache of all the changes that it captured before exiting. This makes it possible to force those changes later using `force_notify_changes` which simply uses `private` to set the value, and then calls `_notify_change` to call notifiers. Using these tools the solution, which is implamented similarly in the refactor, looks like this:"
   ]
  },
  {
   "cell_type": "code",
   "execution_count": null,
   "metadata": {
    "collapsed": false
   },
   "outputs": [],
   "source": [
    "from traitlets import HasTraits, Int, observe, validate\n",
    "from matplotlib.traitlets import PrivateMethodMixin\n",
    "\n",
    "class Base(PrivateMethodMixin, HasTraits):\n",
    "\n",
    "    a = Int()\n",
    "    b = Int()\n",
    "    \n",
    "    @validate('a')\n",
    "    def _a_validator(self, commit):\n",
    "        return commit['value']*2\n",
    "    \n",
    "    @observe('a')\n",
    "    def _a_observer(self, change):\n",
    "        self.b = change['new']\n",
    "\n",
    "    def __init__(self, cached_changes):\n",
    "        m = 'needs pre-notified state'\n",
    "        assert self.a != self.b, m\n",
    "        \n",
    "        for name in cached_changes:\n",
    "            # trigger notifications for the given changes\n",
    "            self.force_notify_changes(*cached_changes[name])\n",
    "            \n",
    "        m = 'needs post-notified state'\n",
    "        assert self.a == self.b, m\n",
    "\n",
    "class Mixin(object):\n",
    "\n",
    "    def __init__(self, value):\n",
    "        with self.mute_trait_notifications() as cache:\n",
    "            # the cache is dict keyed on trait names,\n",
    "            # the values are lists of change dicts.\n",
    "            self.a = value\n",
    "            \n",
    "        # values are validated\n",
    "        assert self.a == value*2\n",
    "        \n",
    "        super(Mixin, self).__init__(cache)\n",
    "\n",
    "def class_factory(klass):\n",
    "    return type('FromFactory', (klass, Base), {})\n",
    "\n",
    "inst = class_factory(Mixin)(1)"
   ]
  },
  {
   "cell_type": "markdown",
   "metadata": {},
   "source": [
    "**\\*note:** since `_notify_change` is planned to be made public (i.e. renamed to `notify_change`) the method `force_notify_change` which I've written, can probably be removed - it really only exists to wrap the privately defined `_notify_change`, and a user that needs to force notify should have enough knowledge to use the cache yielded by `mute_trait_notifications`."
   ]
  },
  {
   "cell_type": "markdown",
   "metadata": {},
   "source": [
    "### `+ Controling Values Upon Retrieval via Event Handlers`\n",
    "\n",
    "When several attributes are requisite to compute the value of another, a high cost may be imposed to recomputing that value whenever one of its requirements changes. Additionally, if the attributes upon which the value depends exist on several instances (particularly if they're nested), setting up the change handlers that are needed to ensure that updates occur properly creates a lot of complexity. In either of these two cases, computing values at the time they are accessed in a localized function is preferable. For Matplotlib's transform types, though it's difficult to determine whether the former issue is significant enough to consider, the latter is definitely a concern. In the vanilla version of Matplotlib where classic getters and setters are used, getters for transform types returned a computed value that sometimes depended on several others. Now with Traitlets, a `RetrieveHandler` inheriting from `traitlets.EventHandler` is used to replicate this functionality inside a new `TraitType` called `TransformInstance`. A simple example showing how `@retrieve` (a decorator for the handler) can be used to compute values at the time they are accessed:"
   ]
  },
  {
   "cell_type": "code",
   "execution_count": null,
   "metadata": {
    "collapsed": false
   },
   "outputs": [],
   "source": [
    "from traitlets import HasTraits, Int\n",
    "from matplotlib.traitlets import retrieve, OnGetMixin\n",
    "\n",
    "# OnGetMixin will be explained below\n",
    "class ActiveInt(OnGetMixin, Int):\n",
    "    read_only=True\n",
    "\n",
    "class A(HasTraits):\n",
    "    \n",
    "    i = ActiveInt(1)\n",
    "    j = Int(1)\n",
    "    k = Int(1)\n",
    "    \n",
    "    @retrieve('i')\n",
    "    def _i_retriever(self, pull):\n",
    "        # pull is a dictionary of the form:\n",
    "        # {'value': the value that already exists\n",
    "        #  'owner': the HasTraits instance value exists on,\n",
    "        #  'trait': the trait which was triggered}\n",
    "        return pull['value'] + self.j + self.k\n",
    "    \n",
    "a = A()\n",
    "assert a.i == 3\n",
    "a.j = 2\n",
    "assert a.i == 4\n",
    "a.k = 2\n",
    "assert a.i == 5"
   ]
  },
  {
   "cell_type": "markdown",
   "metadata": {},
   "source": [
    "The key piece to making `@retrieve` work is the `OnGetMixin` which overrides `__get__` to check if the a `RetrieveHandler` has registered a handler to its name. If it finds one, it will pass any value it can get from `TraitType.__get__` into the handler, and return the value given by the handler. Errors are raised when `TraitType.__get__` fails on a `TraitError` and a handler for the trait is absent. The `TraitType` for Matplotlib's transforms, `TransformInstance`, inherits from `OnGetMixin` along with `TraitType` and simply implaments custom validation logic.\n",
    "\n",
    "#### `* Requirement Trees - Streamlining Simple Value Updates (an asside)`\n",
    "\n",
    "If a value is accessed so many times that the cost of recomputing it outweighs the detriments of updating every time a requisite attribute changes, `@retrieve` shouldn't be used. As a side project, I worked on an `@requires` decorator which would solve this problem by linking up requisite attributes to a single callback in a relatively simple way. `@requires` was not used in the refactor or Matplotlib, nor was it discussed as a possible inclussion in Traitlets for the future, but it was fun to work on and has some interesting behaviors that are at least somewhat related to the work reported on here. The following example demonstrates some, but not all of what it can do, as showing everything would take more effort to explain than is worth doing here."
   ]
  },
  {
   "cell_type": "code",
   "execution_count": 1,
   "metadata": {
    "collapsed": false
   },
   "outputs": [
    {
     "name": "stdout",
     "output_type": "stream",
     "text": [
      "Using existing version of: github.rmorshea.misc\n",
      "{'c': {'owner': <__main__.B object at 0x1069763d0>, 'new': 1, 'old': 1, 'name': 'c'}}\n",
      "{'c': 1, 'b': 0}\n",
      "{'b': {'owner': <__main__.A object at 0x1068de550>, 'new': 1, 'old': 1, 'name': 'b'}}\n",
      "{'c': 1, 'b': 1}\n"
     ]
    }
   ],
   "source": [
    "# uses: https://github.com/rmorshea/antipackage\n",
    "# not tested with: https://github.com/ellisonbg/antipackage\n",
    "import antipackage as apkg\n",
    "from github.rmorshea.misc.requirements import requires\n",
    "from traitlets import HasTraits, Int\n",
    "\n",
    "class A(HasTraits):\n",
    "    a = Int()\n",
    "    b = Int()\n",
    "    \n",
    "    # setup a requirement for an attribute that\n",
    "    # exists on the same instance as `a`\n",
    "    @requires('a', needs=('b',))\n",
    "    def func(self, changes, values, handler):\n",
    "        \"\"\"The returned value is set to `a` when its requirements change\n",
    "        \n",
    "        changes: dictionary keyed on trait names whose values are change dicts\n",
    "        values: dictionary keyed on trait names with the current values of those traits\n",
    "        handler: the `RequiresHandler` instance\n",
    "        \"\"\"\n",
    "        # if the value of the dynamically assigned\n",
    "        # requirement `c` changes, update the value\n",
    "        # of `b` on this instance to match it.\n",
    "        if 'c' in changes:\n",
    "            self.b += changes['c']['new']\n",
    "            \n",
    "        # a nested notification hold ensures that\n",
    "        # the change to `b` will trigger after the\n",
    "        # first call to func finishes. Thus, the\n",
    "        # value of `a` is 2 as might intuitively\n",
    "        # (but not technically) be expected.\n",
    "        print(changes)\n",
    "        print(values)\n",
    "        \n",
    "        total = sum(values.values())\n",
    "        return total\n",
    "    \n",
    "    def __init__(self, other):\n",
    "        # dynamically setup a requirement for\n",
    "        # an attribute on another instance\n",
    "        func = getattr(self.__class__, 'func')\n",
    "        func.setup_requirement(other, 'c')\n",
    "        \n",
    "class B(HasTraits):\n",
    "    \n",
    "    c = Int()\n",
    "    \n",
    "b = B()\n",
    "a = A(b)\n",
    "\n",
    "b.c = 1\n",
    "\n",
    "assert a.a == 2"
   ]
  },
  {
   "cell_type": "markdown",
   "metadata": {
    "collapsed": true
   },
   "source": [
    "### `+ New TraitTypes`\n",
    "\n",
    "While only a handful of new `TraitTypes` have been required to implament traitlets within the base `Artist` class within matplotlib, there are plenty of opertunities to see them used constructively. Of those used within this refactor, the `TransformInstance` type mentioned above in relation to the computation of value upon retrieval is most significant. However it's purpose is reasonable subtle, a more obvious use for Traitlet's `TraitType` can be seen in the as yet, unused `Color` type. It accepts rgb, rgba, hex, or named colors, and depending on whether the `Color` instance was tagged with \\``as_hex=True`\\` or \\``as_rgb=True`\\` metadata, will coerce values. The examples below show off how `Color` might be used:"
   ]
  },
  {
   "cell_type": "code",
   "execution_count": null,
   "metadata": {
    "collapsed": true
   },
   "outputs": [],
   "source": [
    "from matplotlib.traitlets import Color\n",
    "from traitlets import HasTraits\n",
    "\n",
    "# test colors\n",
    "black_values = ['#000000', '#000', (0, 0, 0, 255), 0, 0.0, (.0, .0, .0), (.0, .0, .0, 1.0)]\n",
    "colored_values = ['#BE3537', (190, 53, 55), (0.7451, 0.20784, 0.21569)]"
   ]
  },
  {
   "cell_type": "markdown",
   "metadata": {},
   "source": [
    "Test that a variety of color types can be coerced to hex strings properly."
   ]
  },
  {
   "cell_type": "code",
   "execution_count": null,
   "metadata": {
    "collapsed": true
   },
   "outputs": [],
   "source": [
    "class A(HasTraits):\n",
    "    color = Color().tag(as_hex=True)\n",
    "\n",
    "a = A()\n",
    "\n",
    "for values in black_values:\n",
    "    a.color = values\n",
    "    assert a.color == '#000000'\n",
    "\n",
    "for values in colored_values:\n",
    "    a.color = values\n",
    "    \n",
    "    assert a.color == '#be3537'"
   ]
  },
  {
   "cell_type": "markdown",
   "metadata": {},
   "source": [
    "Test that a variety of color types can be coerced to rgb properly. Note that \\``as_rgb=True`\\` causes alpha values to be ignored."
   ]
  },
  {
   "cell_type": "code",
   "execution_count": null,
   "metadata": {
    "collapsed": true
   },
   "outputs": [],
   "source": [
    "class A(HasTraits):\n",
    "    color = Color().tag(as_rgb=True)\n",
    "\n",
    "a = A()\n",
    "\n",
    "for values in black_values:\n",
    "    a.color = values\n",
    "    assert a.color == (0.0, 0.0, 0.0)\n",
    "\n",
    "for values in colored_values:\n",
    "    a.color = values\n",
    "    assert a.color == (0.7451, 0.20784, 0.21569)"
   ]
  },
  {
   "cell_type": "markdown",
   "metadata": {},
   "source": [
    "Test named colors. The mapping that links names to hex colors comes from matplotlib.colors.cname"
   ]
  },
  {
   "cell_type": "code",
   "execution_count": null,
   "metadata": {
    "collapsed": true
   },
   "outputs": [],
   "source": [
    "from matplotlib.colors import cnames\n",
    "class A(HasTraits):\n",
    "    color = Color()\n",
    "\n",
    "a = A()\n",
    "\n",
    "# run through cnames to verify that\n",
    "# they're all valid hex strings\n",
    "for colorname in cnames.keys():\n",
    "    a.color = colorname\n",
    "    a.color = cnames[colorname]"
   ]
  },
  {
   "cell_type": "markdown",
   "metadata": {},
   "source": [
    "Coercing values can involve some pretty nasty heuristic to get right. The color `TraitType` doesn't make them any simpler, but it does mean that what's required can be put out of sight and out of mind. The average user, even when investigating the source code at a surface level, won't have to dig through layers of logic to get at what they need, because the hard work is done behind the scenes rather than up front."
   ]
  },
  {
   "cell_type": "markdown",
   "metadata": {},
   "source": [
    "#### `* Dynamic Documentation of Traits on an Instance (an asside)`"
   ]
  },
  {
   "cell_type": "markdown",
   "metadata": {},
   "source": [
    "Though `matplotlib.traitlets.Color` demonstrates that nasty coersion heuristics can be hidden from the average user some behaviors won't be intuitive to certain users despite our best efforts to minimize confusion. At a very basic level, someone unfamiliar with property-like attributes, or the Traitlets in general, may not expect coersion, or know that an attribute has notifiers associated with it, thus thorough documentation is essential. To combat this, a first attempt at dynamically generating a docstring in `__init__` that describes each `TraitType` on a `HasTraits` instance and its static notifiers was made in PR [`#131`](https://github.com/ipython/traitlets/pull/131) against the Traitlets repository. Since all the examples here are meant to be run with the [`master`](https://github.com/ipython/traitlets) branch, what's shown below is the expected output of a use case layed out in [`#131`](https://github.com/ipython/traitlets/pull/131):"
   ]
  },
  {
   "cell_type": "markdown",
   "metadata": {},
   "source": [
    "```python\n",
    "class A(HasTraits):\n",
    "    i = Int().tag(allow_none=True, default_value=1)\n",
    "    j = Any().tag(help='some help text for j', data={'x':1})\n",
    "\n",
    "    def __init__(self, *args, **kwargs):\n",
    "        \"\"\"The constructor for the class\n",
    "        \n",
    "        More details about the constructor\"\"\"\n",
    "        pass\n",
    "    \n",
    "    @default('j')\n",
    "    def h(self): pass\n",
    "    \n",
    "    @validate('j')\n",
    "    def g(self, commit):\n",
    "        return commit['value']\n",
    "    \n",
    "    @observe('i', 'j')\n",
    "    def f(self, change):\n",
    "        pass\n",
    "    \n",
    "help(A().__init__)\n",
    "```"
   ]
  },
  {
   "cell_type": "markdown",
   "metadata": {},
   "source": [
    "If we are to apply the docstring of `A()` to the case of `matplotlib.traitlets.Color`, a description of the coersion characteristic for the `TraitType` would best noted through default help text that's stored in its metadata. The docstring isn't quite perfect though. The normal post processing that removes excess tabs that arise in multiline docstrings through Python's use of white space isn't working properly."
   ]
  },
  {
   "cell_type": "markdown",
   "metadata": {},
   "source": [
    "```\n",
    "The constructor for the class\n",
    "\n",
    "        More details about the constructor\n",
    "\n",
    ":Traits of :class:`A` Instances:\n",
    "        i : an int\n",
    "            - trait metadata\n",
    "                * ``allow_none = True``\n",
    "                * ``default_value = 1``\n",
    "            - event handlers\n",
    "                * :method:`A.f` - observes changes\n",
    "\n",
    "        j : any value\n",
    "            :help: some help text for j\n",
    "\n",
    "            - trait metadata\n",
    "                * ``data = {'x': 1}``\n",
    "            - event handlers\n",
    "                * :method:`A.f` - observes changes\n",
    "                * :method:`A.g` - validates values\n",
    "                * :method:`A.h` - sets the default\n",
    "```"
   ]
  },
  {
   "cell_type": "markdown",
   "metadata": {},
   "source": [
    "## `Contributions To Traitlets`\n",
    "\n",
    "As was mentioned at the begining of this report, the refactor of matplotlib has had some influence on the direction which Traitlets' developement has taken. Most of this influence has come in relation to the addition of various decorators meant to make improve the usability of Traitlets' callback system."
   ]
  },
  {
   "cell_type": "markdown",
   "metadata": {},
   "source": [
    "### `+ The @observe Decorator:`\n",
    "\n",
    "Sylvain Corlay commited \"change dicts\" and the `@observe` decorator as an alternative to lenghty function signatures and magic methods partway through the refactor of Matplotlib. The decorator uses features of `traitlets.MetaHasTraits` to register notifiers to a `HasTraits` instance without relying on special naming practices like `_<trait_name>_changed`, to identify, and then trigger these functions later. Additionally change dicts (essentially dictionaries filled with key word arguments) make it easy to maintain backward compatability if new key word arguments are needed later. Now a callback function has a consistant signature that accepts one argument (the change dict), whereas before they could take between 1 and 4.\n",
    "\n",
    "`@observe` hasn't changed much since Sylvain proposed it. About the only real change is the added ability to reference the function as a bound or unbound method depending on whether you accessed the `ObserveHandler` through the class or through the instance. It remains important though because it's the inspiration for `@validate` and `@default` which came later, and ultimately Matplotlib's `@retrieve`. The difference between the use of bound vs unbound references is shown below:"
   ]
  },
  {
   "cell_type": "code",
   "execution_count": null,
   "metadata": {
    "collapsed": true
   },
   "outputs": [],
   "source": [
    "from traitlets import HasTraits, Int, observe\n",
    "\n",
    "class A(HasTraits):\n",
    "    \n",
    "    i = Int()\n",
    "    j = Int()\n",
    "    \n",
    "    @observe('i')\n",
    "    def _i_observe(self, change):\n",
    "        self.j = change['new']\n",
    "        \n",
    "class B(A):\n",
    "    \n",
    "    @observe('i')\n",
    "    def _i_observe(self, change):\n",
    "        change['new'] = 2*change['new']\n",
    "        # a reference to the bound method\n",
    "        super(B, self)._i_observe(change)\n",
    "        \n",
    "class C(A):\n",
    "    \n",
    "    @observe('i')\n",
    "    def _i_observe(self, change):\n",
    "        change['new'] = 2*change['new']\n",
    "        # a reference to the unbound method\n",
    "        A._i_observe(self, change)\n",
    "        \n",
    "b = B()\n",
    "b.i = 1\n",
    "assert b.j == b.i*2\n",
    "\n",
    "c = C()\n",
    "c.i = 1\n",
    "assert c.j == c.i*2"
   ]
  },
  {
   "cell_type": "markdown",
   "metadata": {},
   "source": [
    "Since the refactor of Matplotlib was meant to work with the most recent version of Traitlets, once `@observe` was merged, Matplotlib was changed from relying on the old magic methods to using the new decorator api. Almost immediately though, it was apparent that the contrast between the magic methods still being used to perform cross-validation and assign default values dynamically and the new decorator was stark. Had `@observe` remained the only decorator in use, it may have added more confusion than it dispelled."
   ]
  },
  {
   "cell_type": "markdown",
   "metadata": {},
   "source": [
    "**[Observing Via Tags](https://github.com/ipython/traitlets/pull/111)**: This is a feature that I've implamented, but that hasn't been merged. The purpose of this feature would be to allow callbacks to trigger based upon the metadata a trait contains. For instance, in Matplotlib, there are a slew of attributes that are considered \"properties\" of an artist which ought to trigger a plot to be redrawn. At the moment, all of these attributes use `@observe` to manually call a method within their notifiers which does exactly this for. However it would be much cleaner and apparent to a user that this was the case, if `@observe` could hook into all traits that should have this common callback. This is achieved by inspecting the metadata contained on a trait in order to identify the notifications that should be fired."
   ]
  },
  {
   "cell_type": "code",
   "execution_count": 2,
   "metadata": {
    "collapsed": false
   },
   "outputs": [
    {
     "name": "stdout",
     "output_type": "stream",
     "text": [
      "change from bar tagged trait\n"
     ]
    }
   ],
   "source": [
    "import antipackage as apkg\n",
    "\n",
    "# must have https://github.com/rmorshea/antipackage\n",
    "apkg.pin('github/rmorshea/traitlets', branch='observe_tags')\n",
    "from github.rmorshea.traitlets.traitlets import HasTraits, Int, observe\n",
    "\n",
    "class A(HasTraits):\n",
    "    foo = Int().tag(bar=True)\n",
    "\n",
    "    @observe(tags={'bar':True})\n",
    "    def _bar_observer(self, change):\n",
    "        print 'change from bar tagged trait'\n",
    "\n",
    "a = A()\n",
    "a.foo = 1"
   ]
  },
  {
   "cell_type": "markdown",
   "metadata": {},
   "source": [
    "### `+ The @validate Decorator:`"
   ]
  },
  {
   "cell_type": "markdown",
   "metadata": {
    "collapsed": true
   },
   "source": [
    "Like `@observe`, the `@validate` decorator registers callbacks to a `HasTraits` instance and replaces methods that had previously relied on a naming convention. The difference then, is that while `@observe` methods are triggered after a new values is set on `HasTraits` instances, those of `@validate` control what values can and do get set. More specifically though, `@validate` methods are \"cross-validators\" which have access to the state of the `HasTraits` instance, allowing users to define valid values based upon state. To accomadate the new decorator, it was only required that `TraitTypes` hook into a new `_trait_validators` dictionary where the callbacks are registered by `@validate`. An example which shows a need for cross-validation and demostrates the decorator, is one of a hypotheitcal \"slider\":"
   ]
  },
  {
   "cell_type": "code",
   "execution_count": 5,
   "metadata": {
    "collapsed": false
   },
   "outputs": [
    {
     "name": "stdout",
     "output_type": "stream",
     "text": [
      "value was coerced to: 5\n",
      "value was not coerced: 10\n"
     ]
    }
   ],
   "source": [
    "from traitlets import HasTraits, validate, Int\n",
    "\n",
    "class A(HasTraits):\n",
    "    value = Int()\n",
    "    upper = Int(5)\n",
    "    lower = Int(-5)\n",
    "    \n",
    "    @validate('value')\n",
    "    def _value_limit_coerce(self, commit):\n",
    "        if commit['value'] > self.upper:\n",
    "            return self.upper\n",
    "        elif commit['value'] < self.lower:\n",
    "            return self.lower\n",
    "        else:\n",
    "            return commit['value']\n",
    "        \n",
    "a = A()\n",
    "a.value = 10\n",
    "print('value was coerced to: ' + str(a.value))\n",
    "\n",
    "# However, because `@validate` is only meant for cross validation,\n",
    "# and not all validation. It's possible to have inconsistant states\n",
    "# when setting manual default values. \n",
    "\n",
    "class B(A):\n",
    "    value = Int(10)\n",
    "    \n",
    "b = B()\n",
    "b.value\n",
    "\n",
    "print('value was not coerced: ' + str(b.value))"
   ]
  },
  {
   "cell_type": "markdown",
   "metadata": {
    "collapsed": true
   },
   "source": [
    "### `+ The @default Decorator:`"
   ]
  },
  {
   "cell_type": "markdown",
   "metadata": {},
   "source": [
    "Again, the `@default` decorator replaces notification methods which were previously identified with a naming convention. The purpose of `@default` is to allow these methods to dynamically create a default value if an attribute is accessed which has no previously defined default value. Thus this method is not called prior to the instance being created, but rather afterwards and at the first point where a user needs the value of an attribute without a static default value. The difficulty of implamenting this, is that it is best done as a class based notifier. That is to say, that when a `TraitType` attempts to search for a dynamic default generator which has been registered by `@default`, it should look on the class for this generator, not on the instance which triggered it. This is important if intuitive override behaviors are to be maintained in derivative classes. Consider the example below:"
   ]
  },
  {
   "cell_type": "code",
   "execution_count": 5,
   "metadata": {
    "collapsed": false
   },
   "outputs": [],
   "source": [
    "# I'm crudely approximating a traitlets-like senario in which default\n",
    "# value generators are stored on instances rather than classes\n",
    "\n",
    "from traitlets import HasTraits, Undefined, BaseDescriptor, EventHandler, TraitError\n",
    "\n",
    "class MyInt(BaseDescriptor):\n",
    "    \n",
    "    def __init__(self, default=Undefined):\n",
    "        self.default = default\n",
    "    \n",
    "    def instance_init(self, obj):\n",
    "        # print('MyInt.instance_init') # check when instance_init was called\n",
    "        \n",
    "        # set a default if one is given\n",
    "        if self.default is not Undefined and self.name not in obj._instance_default_generators:\n",
    "            # if a static default is given and no default generator exists,\n",
    "            # then it would be assigned here before the instance is returned\n",
    "            # by the constructor.\n",
    "            obj._trait_values[self.name] = self.validate(self.default)\n",
    "    \n",
    "    def __get__(self, obj, cls=None):\n",
    "        if self.name in obj._trait_values:\n",
    "            # first search to see if a value exists\n",
    "            return obj._trait_values[self.name]\n",
    "        elif self.name in obj._instance_trait_default_generators:\n",
    "            # if no value is found, then search the INSTANCE \n",
    "            # (not the class) for a default value generator.\n",
    "            method = obj._instance_trait_default_generators[self.name]\n",
    "            raw = self.validate(method(obj))\n",
    "            obj._trait_values[self.name] = raw\n",
    "            return raw\n",
    "        else:\n",
    "            raise TraitError(\"no default value for '%s' attribute\" % self.name)\n",
    "        \n",
    "    \n",
    "    def __set__(self, obj, value):\n",
    "        obj._trait_values[self.name] = self.validate(value)\n",
    "        \n",
    "    def validate(self, value):\n",
    "        if isinstance(value, int):\n",
    "            return value\n",
    "        else:\n",
    "            raise TraitError(\"values for '%s' must be integers\"% self.name)\n",
    "\n",
    "\n",
    "def default(name):\n",
    "    return InstanceDefaultHandler(name)\n",
    "\n",
    "            \n",
    "class InstanceDefaultHandler(EventHandler):\n",
    "    \n",
    "    def __init__(self, name):\n",
    "        self._trait_name = name\n",
    "    \n",
    "    def instance_init(self, obj):\n",
    "        # print('InstanceDefaultHandler.instance_init') # check when instance_init was called\n",
    "        obj._instance_trait_default_generators[self._trait_name] = self"
   ]
  },
  {
   "cell_type": "markdown",
   "metadata": {},
   "source": [
    "Now, let's see how this setup behaves when we try to to create some derivative classes:"
   ]
  },
  {
   "cell_type": "code",
   "execution_count": 6,
   "metadata": {
    "collapsed": false
   },
   "outputs": [],
   "source": [
    "# what if we override the `TraitType`\n",
    "\n",
    "class Base(HasTraits):\n",
    "    \n",
    "    i = MyInt() # <-- no default given\n",
    "    \n",
    "    def setup_instance(self, *args, **kwargs):\n",
    "        self._instance_trait_default_generators = {}\n",
    "        super(Base, self).setup_instance(*args, **kwargs)\n",
    "    \n",
    "    @default('i')\n",
    "    def _i_default_generator(self):\n",
    "        # create a default when needed\n",
    "        return 0\n",
    "\n",
    "class Derived(Base):\n",
    "    \n",
    "    i = MyInt(1) # <-- default is given\n",
    "    \n",
    "# we expect that the default value will be 1\n",
    "# since we've defined a new TraitType in place\n",
    "# of the old one, however...\n",
    "\n",
    "d = Derived()\n",
    "# the value is 0\n",
    "assert d.i == 0"
   ]
  },
  {
   "cell_type": "code",
   "execution_count": 8,
   "metadata": {
    "collapsed": false
   },
   "outputs": [
    {
     "ename": "AssertionError",
     "evalue": "",
     "output_type": "error",
     "traceback": [
      "\u001b[0;31m---------------------------------------------------------------------------\u001b[0m",
      "\u001b[0;31mAssertionError\u001b[0m                            Traceback (most recent call last)",
      "\u001b[0;32m<ipython-input-8-d8fb4c1c0a5e>\u001b[0m in \u001b[0;36m<module>\u001b[0;34m()\u001b[0m\n\u001b[1;32m     21\u001b[0m \u001b[0;34m\u001b[0m\u001b[0m\n\u001b[1;32m     22\u001b[0m \u001b[0md\u001b[0m \u001b[0;34m=\u001b[0m \u001b[0mDerived\u001b[0m\u001b[0;34m(\u001b[0m\u001b[0;34m)\u001b[0m\u001b[0;34m\u001b[0m\u001b[0m\n\u001b[0;32m---> 23\u001b[0;31m \u001b[0;32massert\u001b[0m \u001b[0md\u001b[0m\u001b[0;34m.\u001b[0m\u001b[0mi\u001b[0m \u001b[0;34m==\u001b[0m \u001b[0;36m0\u001b[0m\u001b[0;34m\u001b[0m\u001b[0m\n\u001b[0m",
      "\u001b[0;31mAssertionError\u001b[0m: "
     ]
    }
   ],
   "source": [
    "# what if we create a new default generator\n",
    "\n",
    "class Base(HasTraits):\n",
    "    \n",
    "    i = MyInt(0) # <-- no default given\n",
    "    \n",
    "    def setup_instance(self, *args, **kwargs):\n",
    "        self._instance_trait_default_generators = {}\n",
    "        super(Base, self).setup_instance(*args, **kwargs)\n",
    "\n",
    "class Derived(Base):\n",
    "    \n",
    "    @default('i')\n",
    "    def _i_default_generator(self):\n",
    "        # create a default when needed\n",
    "        return 1\n",
    "    \n",
    "# we expect that the default value will be 1\n",
    "# since we've defined a new TraitType in place\n",
    "# of the old one, however...\n",
    "\n",
    "d = Derived()\n",
    "assert d.i == 0"
   ]
  },
  {
   "cell_type": "markdown",
   "metadata": {},
   "source": [
    "+ Note that creating a new generator like this, isn't always gaurenteed to fail (as the output above shows). Instead, failure depends on the order in which the `instance_init` methods of the descriptor `i` and the generator `_i_default_generator` are called - if `_i_default_generator.instance_init` is called first, we will get 1, while if it's `i.instance_init`, we will get 0. Essentially, if the default generator happens to registered before the static default value is set (which cannot be guarenteed) then we get what we expect otherwise, the behavior is inuntuitive. To verify that this is the case, uncomment the print statements in `InstanceDefaultHandler.instance_init` and `MyInt.instance_init` to see the order in which the descriptors were setup."
   ]
  },
  {
   "cell_type": "markdown",
   "metadata": {},
   "source": [
    "The problems with storing dynamic default generators, as outlined above, motivated these generators to be stored on the class, so that implamenting expected behaviors in derived classes could be accomplished by analyzing the `mro` of a class to determine whether or not a dynamic default generator should, or should not be used in place of staticly defined default values. Ultimately this motivated the inclusion of three new methods: `HasTraits.setup_instance`, `HasDescriptors.setup_class`, and `BaseDescriptor.class_init` which are dedicated to creating an intuitive implamentation."
   ]
  },
  {
   "cell_type": "markdown",
   "metadata": {},
   "source": [
    "+ `BaseDescriptor.class_init` is a method which follows in the vein of `BaseDescriptor.instance_init`, the main difference being that `class_init` is called within the metaclass, and the new class is passed to it as an argument. Thus in the same way that `instance_init` is called to properly setup an instance for the given descriptor, `class_init` is called to properly setup a class.\n",
    "\n",
    "+ `MetaHasDescriptors.setup_class` is the overarching framework that iterates over the class dict and calls the `class_init` method of all instances of `BaseDescriptor` which are present on it. This creates a useful handle for users to define custom attributes or logic which may be neccessary when setting up the kinds of descriptors that are registered to the class.\n",
    "\n",
    "+ `HasTraits.setup_instance` is the overarching framework that iterates over the instance dict and calls the `instance_init` method of all instance of `BaseDescriptor` which are present on it. Again, this creates a useful handle for users to define custom attributes which which may be neccessary when setting up the kinds of descriptors that are registered to instance.\n",
    "\n",
    "In conjunction with `BaseDescriptor.instance_init` the above methods creates two coherent phases which a `HasDescriptors` instance and its associated descriptors undergoes when it is created. Those phases being as follows:\n",
    "\n",
    "1. Class Setup Phase:\n",
    "    + `setup_class` iterates over descriptors...\n",
    "        + calling their `class_init` methods\n",
    "2. Instance Setup Phase:\n",
    "    + `setup_instance` iterates over descriptors...\n",
    "        + calling their `instance_init` methods"
   ]
  },
  {
   "cell_type": "code",
   "execution_count": null,
   "metadata": {
    "collapsed": true
   },
   "outputs": [],
   "source": []
  }
 ],
 "metadata": {
  "kernelspec": {
   "display_name": "Python 2",
   "language": "python",
   "name": "python2"
  },
  "language_info": {
   "codemirror_mode": {
    "name": "ipython",
    "version": 2
   },
   "file_extension": ".py",
   "mimetype": "text/x-python",
   "name": "python",
   "nbconvert_exporter": "python",
   "pygments_lexer": "ipython2",
   "version": "2.7.10"
  }
 },
 "nbformat": 4,
 "nbformat_minor": 0
}
